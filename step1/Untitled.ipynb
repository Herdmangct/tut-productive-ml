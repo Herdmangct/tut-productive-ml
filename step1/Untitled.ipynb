{
 "cells": [
  {
   "cell_type": "markdown",
   "id": "63cda202-baaf-44ec-ba72-840eb065bf15",
   "metadata": {},
   "source": [
    "# Iris Dataset"
   ]
  },
  {
   "cell_type": "code",
   "execution_count": 1,
   "id": "97a40c97-9dfc-49d0-84bc-298e21b38c71",
   "metadata": {},
   "outputs": [],
   "source": [
    "# import statements\n",
    "import pandas as pd "
   ]
  },
  {
   "cell_type": "code",
   "execution_count": 4,
   "id": "a5ad124c-0287-46f0-887c-093aa6e93727",
   "metadata": {},
   "outputs": [
    {
     "data": {
      "text/html": [
       "<div>\n",
       "<style scoped>\n",
       "    .dataframe tbody tr th:only-of-type {\n",
       "        vertical-align: middle;\n",
       "    }\n",
       "\n",
       "    .dataframe tbody tr th {\n",
       "        vertical-align: top;\n",
       "    }\n",
       "\n",
       "    .dataframe thead th {\n",
       "        text-align: right;\n",
       "    }\n",
       "</style>\n",
       "<table border=\"1\" class=\"dataframe\">\n",
       "  <thead>\n",
       "    <tr style=\"text-align: right;\">\n",
       "      <th></th>\n",
       "      <th>sepal length</th>\n",
       "      <th>sepal width</th>\n",
       "      <th>petal length</th>\n",
       "      <th>petal width</th>\n",
       "      <th>species</th>\n",
       "    </tr>\n",
       "  </thead>\n",
       "  <tbody>\n",
       "    <tr>\n",
       "      <th>0</th>\n",
       "      <td>5.2</td>\n",
       "      <td>3.5</td>\n",
       "      <td>1.5</td>\n",
       "      <td>0.2</td>\n",
       "      <td>Iris-setosa</td>\n",
       "    </tr>\n",
       "    <tr>\n",
       "      <th>1</th>\n",
       "      <td>4.3</td>\n",
       "      <td>3.0</td>\n",
       "      <td>1.1</td>\n",
       "      <td>0.1</td>\n",
       "      <td>Iris-setosa</td>\n",
       "    </tr>\n",
       "    <tr>\n",
       "      <th>2</th>\n",
       "      <td>5.6</td>\n",
       "      <td>3.0</td>\n",
       "      <td>4.5</td>\n",
       "      <td>1.5</td>\n",
       "      <td>Iris-versicolor</td>\n",
       "    </tr>\n",
       "    <tr>\n",
       "      <th>3</th>\n",
       "      <td>6.3</td>\n",
       "      <td>3.3</td>\n",
       "      <td>6.0</td>\n",
       "      <td>2.5</td>\n",
       "      <td>Iris-virginica</td>\n",
       "    </tr>\n",
       "    <tr>\n",
       "      <th>4</th>\n",
       "      <td>5.1</td>\n",
       "      <td>3.8</td>\n",
       "      <td>1.5</td>\n",
       "      <td>0.3</td>\n",
       "      <td>Iris-setosa</td>\n",
       "    </tr>\n",
       "    <tr>\n",
       "      <th>...</th>\n",
       "      <td>...</td>\n",
       "      <td>...</td>\n",
       "      <td>...</td>\n",
       "      <td>...</td>\n",
       "      <td>...</td>\n",
       "    </tr>\n",
       "    <tr>\n",
       "      <th>145</th>\n",
       "      <td>7.6</td>\n",
       "      <td>3.0</td>\n",
       "      <td>6.6</td>\n",
       "      <td>2.1</td>\n",
       "      <td>Iris-virginica</td>\n",
       "    </tr>\n",
       "    <tr>\n",
       "      <th>146</th>\n",
       "      <td>5.5</td>\n",
       "      <td>2.4</td>\n",
       "      <td>3.7</td>\n",
       "      <td>1.0</td>\n",
       "      <td>Iris-versicolor</td>\n",
       "    </tr>\n",
       "    <tr>\n",
       "      <th>147</th>\n",
       "      <td>6.4</td>\n",
       "      <td>3.1</td>\n",
       "      <td>5.5</td>\n",
       "      <td>1.8</td>\n",
       "      <td>Iris-virginica</td>\n",
       "    </tr>\n",
       "    <tr>\n",
       "      <th>148</th>\n",
       "      <td>7.9</td>\n",
       "      <td>3.8</td>\n",
       "      <td>6.4</td>\n",
       "      <td>2.0</td>\n",
       "      <td>Iris-virginica</td>\n",
       "    </tr>\n",
       "    <tr>\n",
       "      <th>149</th>\n",
       "      <td>6.3</td>\n",
       "      <td>2.5</td>\n",
       "      <td>4.9</td>\n",
       "      <td>1.5</td>\n",
       "      <td>Iris-versicolor</td>\n",
       "    </tr>\n",
       "  </tbody>\n",
       "</table>\n",
       "<p>150 rows × 5 columns</p>\n",
       "</div>"
      ],
      "text/plain": [
       "     sepal length  sepal width  petal length  petal width          species\n",
       "0             5.2          3.5           1.5          0.2      Iris-setosa\n",
       "1             4.3          3.0           1.1          0.1      Iris-setosa\n",
       "2             5.6          3.0           4.5          1.5  Iris-versicolor\n",
       "3             6.3          3.3           6.0          2.5   Iris-virginica\n",
       "4             5.1          3.8           1.5          0.3      Iris-setosa\n",
       "..            ...          ...           ...          ...              ...\n",
       "145           7.6          3.0           6.6          2.1   Iris-virginica\n",
       "146           5.5          2.4           3.7          1.0  Iris-versicolor\n",
       "147           6.4          3.1           5.5          1.8   Iris-virginica\n",
       "148           7.9          3.8           6.4          2.0   Iris-virginica\n",
       "149           6.3          2.5           4.9          1.5  Iris-versicolor\n",
       "\n",
       "[150 rows x 5 columns]"
      ]
     },
     "execution_count": 4,
     "metadata": {},
     "output_type": "execute_result"
    }
   ],
   "source": [
    "df = pd.read_csv('./iris.data', names=['sepal length', 'sepal width', 'petal length', 'petal width', 'species'])\n",
    "df"
   ]
  },
  {
   "cell_type": "code",
   "execution_count": 14,
   "id": "5b3291e7-ea23-459e-a84e-4bf2edb44db2",
   "metadata": {},
   "outputs": [
    {
     "data": {
      "text/html": [
       "<div>\n",
       "<style scoped>\n",
       "    .dataframe tbody tr th:only-of-type {\n",
       "        vertical-align: middle;\n",
       "    }\n",
       "\n",
       "    .dataframe tbody tr th {\n",
       "        vertical-align: top;\n",
       "    }\n",
       "\n",
       "    .dataframe thead th {\n",
       "        text-align: right;\n",
       "    }\n",
       "</style>\n",
       "<table border=\"1\" class=\"dataframe\">\n",
       "  <thead>\n",
       "    <tr style=\"text-align: right;\">\n",
       "      <th></th>\n",
       "      <th>mean_fit_time</th>\n",
       "      <th>std_fit_time</th>\n",
       "      <th>mean_score_time</th>\n",
       "      <th>std_score_time</th>\n",
       "      <th>param_C</th>\n",
       "      <th>param_kernel</th>\n",
       "      <th>params</th>\n",
       "      <th>split0_test_score</th>\n",
       "      <th>split1_test_score</th>\n",
       "      <th>split2_test_score</th>\n",
       "      <th>split3_test_score</th>\n",
       "      <th>split4_test_score</th>\n",
       "      <th>mean_test_score</th>\n",
       "      <th>std_test_score</th>\n",
       "      <th>rank_test_score</th>\n",
       "    </tr>\n",
       "  </thead>\n",
       "  <tbody>\n",
       "    <tr>\n",
       "      <th>5</th>\n",
       "      <td>0.000575</td>\n",
       "      <td>0.000031</td>\n",
       "      <td>0.000420</td>\n",
       "      <td>0.000149</td>\n",
       "      <td>0.1</td>\n",
       "      <td>poly</td>\n",
       "      <td>{'C': 0.1, 'kernel': 'poly'}</td>\n",
       "      <td>0.966667</td>\n",
       "      <td>1.0</td>\n",
       "      <td>1.000000</td>\n",
       "      <td>0.966667</td>\n",
       "      <td>1.0</td>\n",
       "      <td>0.986667</td>\n",
       "      <td>0.016330</td>\n",
       "      <td>1</td>\n",
       "    </tr>\n",
       "    <tr>\n",
       "      <th>8</th>\n",
       "      <td>0.000520</td>\n",
       "      <td>0.000127</td>\n",
       "      <td>0.000358</td>\n",
       "      <td>0.000131</td>\n",
       "      <td>1</td>\n",
       "      <td>linear</td>\n",
       "      <td>{'C': 1, 'kernel': 'linear'}</td>\n",
       "      <td>0.966667</td>\n",
       "      <td>1.0</td>\n",
       "      <td>0.966667</td>\n",
       "      <td>0.966667</td>\n",
       "      <td>1.0</td>\n",
       "      <td>0.980000</td>\n",
       "      <td>0.016330</td>\n",
       "      <td>2</td>\n",
       "    </tr>\n",
       "    <tr>\n",
       "      <th>14</th>\n",
       "      <td>0.000405</td>\n",
       "      <td>0.000042</td>\n",
       "      <td>0.000235</td>\n",
       "      <td>0.000013</td>\n",
       "      <td>10</td>\n",
       "      <td>rbf</td>\n",
       "      <td>{'C': 10, 'kernel': 'rbf'}</td>\n",
       "      <td>0.966667</td>\n",
       "      <td>1.0</td>\n",
       "      <td>0.966667</td>\n",
       "      <td>0.966667</td>\n",
       "      <td>1.0</td>\n",
       "      <td>0.980000</td>\n",
       "      <td>0.016330</td>\n",
       "      <td>2</td>\n",
       "    </tr>\n",
       "    <tr>\n",
       "      <th>9</th>\n",
       "      <td>0.000446</td>\n",
       "      <td>0.000053</td>\n",
       "      <td>0.000252</td>\n",
       "      <td>0.000027</td>\n",
       "      <td>1</td>\n",
       "      <td>poly</td>\n",
       "      <td>{'C': 1, 'kernel': 'poly'}</td>\n",
       "      <td>0.966667</td>\n",
       "      <td>1.0</td>\n",
       "      <td>0.966667</td>\n",
       "      <td>0.966667</td>\n",
       "      <td>1.0</td>\n",
       "      <td>0.980000</td>\n",
       "      <td>0.016330</td>\n",
       "      <td>2</td>\n",
       "    </tr>\n",
       "    <tr>\n",
       "      <th>18</th>\n",
       "      <td>0.000413</td>\n",
       "      <td>0.000038</td>\n",
       "      <td>0.000254</td>\n",
       "      <td>0.000062</td>\n",
       "      <td>100</td>\n",
       "      <td>rbf</td>\n",
       "      <td>{'C': 100, 'kernel': 'rbf'}</td>\n",
       "      <td>1.000000</td>\n",
       "      <td>1.0</td>\n",
       "      <td>0.900000</td>\n",
       "      <td>0.966667</td>\n",
       "      <td>1.0</td>\n",
       "      <td>0.973333</td>\n",
       "      <td>0.038873</td>\n",
       "      <td>5</td>\n",
       "    </tr>\n",
       "  </tbody>\n",
       "</table>\n",
       "</div>"
      ],
      "text/plain": [
       "    mean_fit_time  std_fit_time  mean_score_time  std_score_time param_C  \\\n",
       "5        0.000575      0.000031         0.000420        0.000149     0.1   \n",
       "8        0.000520      0.000127         0.000358        0.000131       1   \n",
       "14       0.000405      0.000042         0.000235        0.000013      10   \n",
       "9        0.000446      0.000053         0.000252        0.000027       1   \n",
       "18       0.000413      0.000038         0.000254        0.000062     100   \n",
       "\n",
       "   param_kernel                        params  split0_test_score  \\\n",
       "5          poly  {'C': 0.1, 'kernel': 'poly'}           0.966667   \n",
       "8        linear  {'C': 1, 'kernel': 'linear'}           0.966667   \n",
       "14          rbf    {'C': 10, 'kernel': 'rbf'}           0.966667   \n",
       "9          poly    {'C': 1, 'kernel': 'poly'}           0.966667   \n",
       "18          rbf   {'C': 100, 'kernel': 'rbf'}           1.000000   \n",
       "\n",
       "    split1_test_score  split2_test_score  split3_test_score  \\\n",
       "5                 1.0           1.000000           0.966667   \n",
       "8                 1.0           0.966667           0.966667   \n",
       "14                1.0           0.966667           0.966667   \n",
       "9                 1.0           0.966667           0.966667   \n",
       "18                1.0           0.900000           0.966667   \n",
       "\n",
       "    split4_test_score  mean_test_score  std_test_score  rank_test_score  \n",
       "5                 1.0         0.986667        0.016330                1  \n",
       "8                 1.0         0.980000        0.016330                2  \n",
       "14                1.0         0.980000        0.016330                2  \n",
       "9                 1.0         0.980000        0.016330                2  \n",
       "18                1.0         0.973333        0.038873                5  "
      ]
     },
     "execution_count": 14,
     "metadata": {},
     "output_type": "execute_result"
    }
   ],
   "source": [
    "from sklearn import svm, datasets\n",
    "from sklearn.model_selection import GridSearchCV\n",
    "import pandas as pd\n",
    "iris = datasets.load_iris()\n",
    "parameters = {'kernel':('linear', 'poly', 'rbf', 'sigmoid'), 'C':[0.01, 0.1, 1, 10, 100, 1000]}\n",
    "svc = svm.SVC()\n",
    "clf = GridSearchCV(svc, parameters)\n",
    "clf.fit(iris.data, iris.target)\n",
    "pd.DataFrame(clf.cv_results_).sort_values('rank_test_score', axis=0).head()"
   ]
  },
  {
   "cell_type": "code",
   "execution_count": 39,
   "id": "23feb168-690a-4842-8487-577a854ad73a",
   "metadata": {},
   "outputs": [],
   "source": [
    "clf_best = svm.SVC(kernel='poly', C=0.1)"
   ]
  },
  {
   "cell_type": "code",
   "execution_count": 40,
   "id": "379d3f07-921b-4e2d-8f91-348019524e98",
   "metadata": {},
   "outputs": [
    {
     "data": {
      "text/plain": [
       "SVC(C=0.1, kernel='poly')"
      ]
     },
     "execution_count": 40,
     "metadata": {},
     "output_type": "execute_result"
    }
   ],
   "source": [
    "clf_best.fit(iris.data, iris.target)"
   ]
  },
  {
   "cell_type": "code",
   "execution_count": 41,
   "id": "ee3ed744-88a6-4d39-9560-247aded0b9c7",
   "metadata": {},
   "outputs": [],
   "source": [
    "import pickle\n",
    "with open('../iris.p', 'wb') as file:  \n",
    "    pickle.dump(clf_best, file)"
   ]
  },
  {
   "cell_type": "code",
   "execution_count": 42,
   "id": "61dde8ce-f2da-4c57-a337-910078aa15b7",
   "metadata": {},
   "outputs": [],
   "source": [
    "with open('../iris.p', 'rb') as file:\n",
    "    loaded_model = pickle.load(file)"
   ]
  },
  {
   "cell_type": "code",
   "execution_count": 45,
   "id": "9958ae31-902f-4b9f-94a4-fdade2c1d284",
   "metadata": {},
   "outputs": [
    {
     "data": {
      "text/plain": [
       "array([0, 0, 0, 0, 0, 0, 0, 0, 0, 0, 0, 0, 0, 0, 0, 0, 0, 0, 0, 0, 0, 0,\n",
       "       0, 0, 0, 0, 0, 0, 0, 0, 0, 0, 0, 0, 0, 0, 0, 0, 0, 0, 0, 0, 0, 0,\n",
       "       0, 0, 0, 0, 0, 0, 1, 1, 1, 1, 1, 1, 1, 1, 1, 1, 1, 1, 1, 1, 1, 1,\n",
       "       1, 1, 1, 1, 1, 1, 1, 1, 1, 1, 1, 1, 1, 1, 1, 1, 1, 2, 1, 1, 1, 1,\n",
       "       1, 1, 1, 1, 1, 1, 1, 1, 1, 1, 1, 1, 2, 2, 2, 2, 2, 2, 1, 2, 2, 2,\n",
       "       2, 2, 2, 2, 2, 2, 2, 2, 2, 2, 2, 2, 2, 2, 2, 2, 2, 2, 2, 2, 2, 2,\n",
       "       2, 2, 2, 2, 2, 2, 2, 2, 2, 2, 2, 2, 2, 2, 2, 2, 2, 2])"
      ]
     },
     "execution_count": 45,
     "metadata": {},
     "output_type": "execute_result"
    }
   ],
   "source": [
    "loaded_model.predict(iris.data)"
   ]
  },
  {
   "cell_type": "code",
   "execution_count": 49,
   "id": "ba89c0e5-da0a-4a15-bb07-b88825bb7d26",
   "metadata": {},
   "outputs": [],
   "source": [
    "first_row = iris.data[0]"
   ]
  },
  {
   "cell_type": "code",
   "execution_count": 52,
   "id": "abb7e1c6-41fe-4cca-ac58-d37a27732655",
   "metadata": {},
   "outputs": [],
   "source": [
    "column_names = ['sepal length', 'sepal width', 'petal length', 'petal width']"
   ]
  },
  {
   "cell_type": "code",
   "execution_count": 53,
   "id": "f1eb883c-7536-4e06-9708-be886f37a861",
   "metadata": {},
   "outputs": [],
   "source": [
    "new_dict = {}\n",
    "for i, c in enumerate(column_names):\n",
    "    new_dict[c] = first_row[i]"
   ]
  },
  {
   "cell_type": "code",
   "execution_count": 54,
   "id": "cec8dbf3-f423-49df-be65-be631f6b1199",
   "metadata": {},
   "outputs": [
    {
     "data": {
      "text/plain": [
       "{'sepal length': 5.1,\n",
       " 'sepal width': 3.5,\n",
       " 'petal length': 1.4,\n",
       " 'petal width': 0.2}"
      ]
     },
     "execution_count": 54,
     "metadata": {},
     "output_type": "execute_result"
    }
   ],
   "source": [
    "new_dict"
   ]
  },
  {
   "cell_type": "code",
   "execution_count": 61,
   "id": "6dddf006-e9fc-485a-be78-8b93597efc1c",
   "metadata": {},
   "outputs": [],
   "source": [
    "index = 50"
   ]
  },
  {
   "cell_type": "code",
   "execution_count": 62,
   "id": "ac480b6b-8b47-4a33-a545-cb2fe1704fb5",
   "metadata": {},
   "outputs": [
    {
     "data": {
      "text/plain": [
       "(array([7. , 3.2, 4.7, 1.4]), 1)"
      ]
     },
     "execution_count": 62,
     "metadata": {},
     "output_type": "execute_result"
    }
   ],
   "source": [
    "iris.data[index], iris.target[index]"
   ]
  },
  {
   "cell_type": "code",
   "execution_count": null,
   "id": "e380ead5-e5a7-4057-b778-68906aeb543a",
   "metadata": {},
   "outputs": [],
   "source": []
  }
 ],
 "metadata": {
  "kernelspec": {
   "display_name": "Python 3",
   "language": "python",
   "name": "python3"
  },
  "language_info": {
   "codemirror_mode": {
    "name": "ipython",
    "version": 3
   },
   "file_extension": ".py",
   "mimetype": "text/x-python",
   "name": "python",
   "nbconvert_exporter": "python",
   "pygments_lexer": "ipython3",
   "version": "3.8.8"
  }
 },
 "nbformat": 4,
 "nbformat_minor": 5
}
